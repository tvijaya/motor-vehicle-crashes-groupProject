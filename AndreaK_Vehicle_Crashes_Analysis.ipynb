{
 "cells": [
  {
   "cell_type": "code",
   "execution_count": null,
   "metadata": {
    "collapsed": true
   },
   "outputs": [],
   "source": [
    "#Dependencies\n",
    "import os\n",
    "import pandas as pd\n",
    "import numpy as np\n",
    "import matplotlib.pyplot as plt\n",
    "#import seaborn as sns"
   ]
  },
  {
   "cell_type": "code",
   "execution_count": null,
   "metadata": {
    "collapsed": true
   },
   "outputs": [],
   "source": [
    "# Read in CSV files \n",
    "csv_path = \"accidents-final.csv\"\n",
    "csv_path2 = \"FARS2016NationalCSV/person.csv\"\n",
    "csv_path3 = \"FARS2016NationalCSV/states.csv\"\n",
    "\n",
    "accidents = pd.read_csv(csv_path)\n",
    "persons = pd.read_csv(csv_path2)"
   ]
  },
  {
   "cell_type": "code",
   "execution_count": null,
   "metadata": {
    "collapsed": true
   },
   "outputs": [],
   "source": [
    "# Create columns of Date and Time to be used for Time of Day motor vehicle crashes\n",
    "accidents[\"DATE\"] = pd.to_datetime(accidents[[\"DAY\",\"MONTH\",\"YEAR\",\"HOUR\",\"MINUTE\"]])\n",
    "accidents[\"TIME\"] = accidents[\"DATE\"].dt.time"
   ]
  },
  {
   "cell_type": "code",
   "execution_count": null,
   "metadata": {
    "collapsed": true
   },
   "outputs": [],
   "source": [
    "# Define and create column for Holidays and Weekends\n",
    "accidents['HOLIDAYS'] = np.where((accidents[\"DATE\"] > '2016-01-01') & (accidents[\"DATE\"] < '2016-01-04 06:00:00')|\n",
    "                                ((accidents[\"DATE\"] > '2016-05-27 17:59:00') & (accidents[\"DATE\"] < '2016-05-31 06:00:00'))|\n",
    "                                ((accidents[\"DATE\"] > '2016-07-01 17:59:00') & (accidents[\"DATE\"] < '2016-07-05 06:00:00'))|\n",
    "                                ((accidents[\"DATE\"] > '2016-09-02 17:59:00') & (accidents[\"DATE\"] < '2016-09-06 06:00:00'))|\n",
    "                                ((accidents[\"DATE\"] > '2016-11-23 17:59:00') & (accidents[\"DATE\"] < '2016-11-28 06:00:00'))|\n",
    "                                ((accidents[\"DATE\"] > '2016-12-23 17:59:00') & (accidents[\"DATE\"] < '2016-12-27 06:00:00'))|\n",
    "                                ((accidents[\"DAY_WEEK\"] == 6) & (accidents[\"HOUR\"] >= 18) & (accidents[\"HOUR\"] <= 23))|\n",
    "                                (accidents[\"DAY_WEEK\"] == 1)|(accidents[\"DAY_WEEK\"] == 7)|\n",
    "                                ((accidents[\"DAY_WEEK\"] == 2) & (accidents[\"HOUR\"] >= 0) & (accidents[\"HOUR\"] <= 5))\n",
    "                                , \"1\",\"0\")"
   ]
  },
  {
   "cell_type": "code",
   "execution_count": null,
   "metadata": {},
   "outputs": [],
   "source": [
    "# Remove \"Unknown\" hours from analysis\n",
    "accidents_df = accidents[accidents[\"HOUR\"] != 99]\n",
    "accidents_df[\"HOLIDAYS\"] = accidents_df[\"HOLIDAYS\"].map({\"1\": \"Weekends/Holidays\", \"0\": \"Weekdays\"})"
   ]
  },
  {
   "cell_type": "code",
   "execution_count": null,
   "metadata": {},
   "outputs": [],
   "source": [
    "weekdays = accidents_df[accidents_df[\"HOLIDAYS\"] == \"Weekdays\"]\n",
    "holidays = accidents_df[accidents_df[\"HOLIDAYS\"] == \"Weekends/Holidays\"]"
   ]
  },
  {
   "cell_type": "code",
   "execution_count": null,
   "metadata": {
    "scrolled": true
   },
   "outputs": [],
   "source": [
    "# Fatalities and Alcohol Related Crashes by Weekends/Holidays and Weekdays\n",
    "zz = accidents_df.groupby(\"HOLIDAYS\")\n",
    "zzz = zz[[\"FATALS\"]].sum().sort_values(by= [\"FATALS\"], ascending=False)\n",
    "zzz[\"Percentage\"] = 100 * zzz[\"FATALS\"]/zzz[\"FATALS\"].sum()\n",
    "zzz = zzz.rename(columns = {\"FATALS\": \"Fatalities Count\", \"Percentage\": \"Percent of Fatalities\"})\n",
    "\n",
    "aaa = zz[[\"DRUNK_DR\"]].sum().sort_values(by= [\"DRUNK_DR\"], ascending=False)\n",
    "aaa[\"Percentage\"] = 100 * aaa[\"DRUNK_DR\"]/aaa[\"DRUNK_DR\"].sum()\n",
    "aaa = aaa.rename(columns = {\"DRUNK_DR\": \"Alcohol Related Crashes Count\", \"Percentage\": \"Percent of Alcohol Related Crashes\"})\n",
    "\n",
    "zzz_aaa = zzz.join(aaa).round(2)\n",
    "fatals_drunkdr = zzz_aaa[[\"Fatalities Count\", \"Alcohol Related Crashes Count\", \"Percent of Fatalities\", \"Percent of Alcohol Related Crashes\"]]\n",
    "fatals_drunkdr"
   ]
  },
  {
   "cell_type": "code",
   "execution_count": null,
   "metadata": {
    "scrolled": true
   },
   "outputs": [],
   "source": [
    "# Drinking on Weekdays by STATE\n",
    "drunk_weekdays_bystate = weekdays.groupby(\"STATE\")[[\"DRUNK_DR\"]].sum()\n",
    "total_drunk_weekdays = weekdays[\"DRUNK_DR\"].sum()\n",
    "drunk_rate_weekdays = (drunk_weekdays_bystate/total_drunk_weekdays *100).sort_values(by=[\"DRUNK_DR\"],ascending=False)\n",
    "drunk_rate_weekdays = drunk_rate_weekdays.rename(columns = {\"DRUNK_DR\": \"Weekdays - % of Alcohol Related Crashes\"})\n",
    "\n",
    "# Drinking on Holidays/Weekends by STATE\n",
    "drunk_holidays_bystate = holidays.groupby(\"STATE\")[[\"DRUNK_DR\"]].sum()\n",
    "total_drunk_holidays = holidays[\"DRUNK_DR\"].sum()\n",
    "drunk_rate_holidays = (drunk_holidays_bystate/total_drunk_holidays *100).sort_values(by=[\"DRUNK_DR\"],ascending=False)\n",
    "drunk_rate_holidays = drunk_rate_holidays.rename(columns = {\"DRUNK_DR\": \"Weekends/Holidays - % of Alcohol Related Crashes\"})\n",
    "\n",
    "# Join tables for comparison\n",
    "drinking_bystate = drunk_rate_weekdays.join(drunk_rate_holidays).round(2)\n",
    "drinking_bystate.head()"
   ]
  },
  {
   "cell_type": "code",
   "execution_count": null,
   "metadata": {},
   "outputs": [],
   "source": [
    "# Number of Fatalities on Weekdays by STATE\n",
    "fatals_weekdays_bystate = weekdays.groupby(\"STATE\")[[\"FATALS\"]].sum()\n",
    "total_fatals_weekdays = weekdays[\"FATALS\"].sum()\n",
    "fatals_rate_weekdays = (fatals_weekdays_bystate/total_fatals_weekdays *100).sort_values(by=[\"FATALS\"],ascending=False)\n",
    "fatals_rate_weekdays = fatals_rate_weekdays.rename(columns = {\"FATALS\": \"Weekdays - % of Fatalities\"})\n",
    "\n",
    "# Number of Fatalities on Holidays/Weekends by STATE\n",
    "fatals_holidays_bystate = holidays.groupby(\"STATE\")[[\"FATALS\"]].sum()\n",
    "total_fatals_holidays = holidays[\"FATALS\"].sum()\n",
    "fatals_rate_holidays = (fatals_holidays_bystate/total_fatals_holidays *100).sort_values(by=[\"FATALS\"],ascending=False)\n",
    "fatals_rate_holidays = fatals_rate_holidays.rename(columns = {\"FATALS\": \"Weekends/Holidays - % of Fatalities\"})\n",
    "\n",
    "# Join tables for comparison\n",
    "fatals_bystate = fatals_rate_weekdays.join(fatals_rate_holidays).round(2)\n",
    "fatals_bystate.head()"
   ]
  },
  {
   "cell_type": "code",
   "execution_count": null,
   "metadata": {},
   "outputs": [],
   "source": [
    "# Total % of Motor Vehicle Crashes by County\n",
    "total = accidents_df[\"STATE\"].count()\n",
    "county = accidents_df.groupby([\"COUNTY\",\"STATE\"])[[\"HOLIDAYS\"]].count().sort_values(by=[\"HOLIDAYS\"],ascending=False)\n",
    "county_x = (county/total*100).sort_values(by=[\"HOLIDAYS\"],ascending=False)\n",
    "county_x = county_x.rename(columns = {\"HOLIDAYS\": \"% of Motor Vehicle Accidents\"})\n",
    "\n",
    "county_perc = county_x.round(2)\n",
    "county_perc.head()"
   ]
  },
  {
   "cell_type": "code",
   "execution_count": null,
   "metadata": {
    "scrolled": false
   },
   "outputs": [],
   "source": [
    "# Alcohol Related Crashes at the County Level\n",
    "county_weekdays_dd = weekdays.groupby([\"COUNTY\",\"STATE\"])[[\"DRUNK_DR\"]].sum()\n",
    "county_drunk_weekdays = (county_weekdays_dd/total_drunk_weekdays *100).sort_values(by=[\"DRUNK_DR\"],ascending=False)\n",
    "county_drunk_weekdays = county_drunk_weekdays.rename(columns = {\"DRUNK_DR\": \"Weekdays - % of Alcohol Related Crashes\"})\n",
    "\n",
    "county_holidays_dd = holidays.groupby([\"COUNTY\",\"STATE\"])[[\"DRUNK_DR\"]].sum()\n",
    "county_drunk_holidays = (county_holidays_dd/total_drunk_holidays *100).sort_values(by=[\"DRUNK_DR\"],ascending=False)\n",
    "county_drunk_holidays = county_drunk_holidays.rename(columns = {\"DRUNK_DR\": \"Weekends/Holidays - % of Alcohol Related Crashes\"})\n",
    "\n",
    "drunk_rate_bycounty = county_drunk_weekdays.join(county_drunk_holidays).round(2)\n",
    "drunk_rate_bycounty.head()"
   ]
  },
  {
   "cell_type": "code",
   "execution_count": null,
   "metadata": {
    "scrolled": true
   },
   "outputs": [],
   "source": [
    "# Fatality Numbers at the County Level\n",
    "county_weekdays_ff = weekdays.groupby([\"COUNTY\",\"STATE\"])[[\"FATALS\"]].sum()\n",
    "county_fatals_weekdays = (county_weekdays_ff/total_fatals_weekdays *100).sort_values(by=[\"FATALS\"],ascending=False)\n",
    "county_fatals_weekdays = county_fatals_weekdays.rename(columns = {\"FATALS\": \"Weekdays - % of Fatalities\"})\n",
    "\n",
    "county_holidays_ff = holidays.groupby([\"COUNTY\",\"STATE\"])[[\"FATALS\"]].sum()\n",
    "county_fatals_holidays = (county_holidays_ff/total_fatals_holidays *100).sort_values(by=[\"FATALS\"],ascending=False)\n",
    "county_fatals_holidays = county_fatals_holidays.rename(columns = {\"FATALS\": \"Weekends/Holidays - % of Fatalities\"})\n",
    "\n",
    "fatals_bycounty = county_fatals_weekdays.join(county_fatals_holidays)\n",
    "\n",
    "drunk_fatals_bycounty_x = drunk_rate_bycounty.join(fatals_bycounty).round(2)\n",
    "drunk_fatals_bycounty = drunk_fatals_bycounty_x[[\"Weekdays - % of Alcohol Related Crashes\", \"Weekends/Holidays - % of Alcohol Related Crashes\", \"Weekdays - % of Fatalities\", \"Weekends/Holidays - % of Fatalities\"]]\n",
    "drunk_fatals_bycounty.head()"
   ]
  },
  {
   "cell_type": "code",
   "execution_count": null,
   "metadata": {},
   "outputs": [],
   "source": [
    "# Routes by state (weekdays)\n",
    "routes_y = weekdays.groupby([\"STATE\", \"ROUTE\"])[\"ROUTE\"].count().unstack()\n",
    "routes_y.fillna(0, inplace=True)\n",
    "routes_y[\"highways\"] = routes_y[\"Interstate\"] + routes_y[\"State Highway\"] + routes_y[\"U.S. Highway\"]\n",
    "routes_y[\"locals\"] = routes_y[\"County Road\"] + routes_y[\"Local Street - Township\"] + routes_y[\"Local Street - Frontage Road\"]+ routes_y[\"Local Street - Municipality\"] + routes_y[\"Other\"]\n",
    "routes_y[\"totals\"] = routes_y[\"highways\"]+ routes_y[\"locals\"]\n",
    "routes_y[\"highways_perc\"] = routes_y[\"highways\"]/routes_y[\"totals\"]*100\n",
    "routes_y[\"locals_perc\"] = routes_y[\"locals\"]/routes_y[\"totals\"]*100\n",
    "routes_bystate_weekdays = routes_y[[\"highways\",\"locals\",\"totals\",\"highways_perc\",\"locals_perc\"]]\n",
    "routes_bystate_weekdays.sort_values(by=[\"totals\"], ascending=False)\n",
    "routes_bystate_weekdays = routes_bystate_weekdays.round(2)\n",
    "routes_bystate_weekdays.head()"
   ]
  },
  {
   "cell_type": "code",
   "execution_count": null,
   "metadata": {
    "scrolled": true
   },
   "outputs": [],
   "source": [
    "# Routes by state (weekend/holidays)\n",
    "routes_x = holidays.groupby([\"STATE\", \"ROUTE\"])[\"ROUTE\"].count().unstack()\n",
    "routes_x.fillna(0, inplace=True)\n",
    "routes_x[\"highways\"] = routes_x[\"Interstate\"] + routes_x[\"State Highway\"] + routes_x[\"U.S. Highway\"]\n",
    "routes_x[\"locals\"] = routes_x[\"County Road\"] + routes_x[\"Local Street - Township\"] + routes_x[\"Local Street - Frontage Road\"]+ routes_x[\"Local Street - Municipality\"] + routes_x[\"Other\"]\n",
    "routes_x[\"totals\"] = routes_x[\"highways\"]+ routes_x[\"locals\"]\n",
    "routes_x[\"highways_perc\"] = routes_x[\"highways\"]/routes_x[\"totals\"]*100\n",
    "routes_x[\"locals_perc\"] = routes_x[\"locals\"]/routes_x[\"totals\"]*100\n",
    "routes_bystate_holidays = routes_x[[\"highways\",\"locals\",\"totals\",\"highways_perc\",\"locals_perc\"]]\n",
    "routes_bystate_holidays.sort_values(by=[\"totals\"], ascending=False)\n",
    "routes_bystate_holidays = routes_bystate_holidays.round(2)\n",
    "routes_bystate_holidays.head()"
   ]
  },
  {
   "cell_type": "code",
   "execution_count": null,
   "metadata": {
    "scrolled": true
   },
   "outputs": [],
   "source": [
    "# Harmful Events Comparison between weekdays and weekends/holidays\n",
    "harm_b = weekdays.groupby([\"HARM_EV\"]).count()\n",
    "harm_weekdays =harm_b[[\"HOLIDAYS\"]].sort_values(by= [\"HOLIDAYS\"], ascending=False)\n",
    "harm_weekdays['Percentage'] = 100 * harm_weekdays[\"HOLIDAYS\"]/harm_weekdays[\"HOLIDAYS\"].sum()\n",
    "harm_weekdays = harm_weekdays.rename(columns = {\"HOLIDAYS\": \"Weekdays - Harmful Events Counts\", \"Percentage\": \"Weekdays - Percent of Harmful Events\"})\n",
    "\n",
    "harm_a = holidays.groupby([\"HARM_EV\"]).count()\n",
    "harm_holidays =harm_a[[\"HOLIDAYS\"]].sort_values(by= [\"HOLIDAYS\"], ascending=False)\n",
    "harm_holidays['Percentage'] = 100 * harm_holidays[\"HOLIDAYS\"]/harm_holidays[\"HOLIDAYS\"].sum()\n",
    "harm_holidays = harm_holidays.rename(columns = {\"HOLIDAYS\": \"Weekends/Holidays - Harmful Events Counts\", \"Percentage\": \"Weekends/Holidays - Percent of Harmful Events\"})\n",
    "\n",
    "harm_ev = harm_weekdays.join(harm_holidays).round(2)\n",
    "harm_ev.head()"
   ]
  },
  {
   "cell_type": "code",
   "execution_count": null,
   "metadata": {
    "collapsed": true
   },
   "outputs": [],
   "source": [
    "# Function to define and apply hours of the day into groups\n",
    "def label_hour (row):\n",
    "    if (row['HOUR'] > 4) & (row['HOUR'] <= 11):\n",
    "        return 'Morning'\n",
    "    elif (row['HOUR'] > 11) & (row['HOUR'] <= 16):\n",
    "        return 'Afternoon'\n",
    "    elif (row['HOUR'] > 16) & (row['HOUR'] <= 20):\n",
    "        return 'Evening'\n",
    "    elif (row['HOUR'] > 20) & (row['HOUR'] <= 23)| (row['HOUR'] >=0) & (row['HOUR'] <=5):\n",
    "        return 'Night'\n",
    "    return 'Other'"
   ]
  },
  {
   "cell_type": "code",
   "execution_count": null,
   "metadata": {},
   "outputs": [],
   "source": [
    "# Create column and apply hours of the day from function\n",
    "accidents_df['HOUR_LABEL'] = accidents_df.apply (lambda row: label_hour (row),axis=1)"
   ]
  },
  {
   "cell_type": "code",
   "execution_count": null,
   "metadata": {
    "collapsed": true
   },
   "outputs": [],
   "source": [
    "# Calculations and percentages\n",
    "hours_groupby = accidents_df.groupby([\"HOLIDAYS\",\"HOUR_LABEL\"])[\"HOUR_LABEL\"].count().unstack().reset_index()\n",
    "hours_groupby[\"Totals\"] = hours_groupby[\"Afternoon\"]+ hours_groupby[\"Evening\"] + hours_groupby[\"Morning\"]+ hours_groupby[\"Night\"]\n",
    "hours_groupby[\"Afternoon_perc\"] = hours_groupby[\"Afternoon\"]/hours_groupby[\"Totals\"]*100\n",
    "hours_groupby[\"Evening_perc\"] = hours_groupby[\"Evening\"]/hours_groupby[\"Totals\"]*100\n",
    "hours_groupby[\"Morning_perc\"] = hours_groupby[\"Morning\"]/hours_groupby[\"Totals\"]*100\n",
    "hours_groupby[\"Night_perc\"] = hours_groupby[\"Night\"]/hours_groupby[\"Totals\"]*100\n",
    "hours = hours_groupby[[\"Morning_perc\",\"Afternoon_perc\", \"Evening_perc\", \"Night_perc\"]]"
   ]
  },
  {
   "cell_type": "code",
   "execution_count": null,
   "metadata": {},
   "outputs": [],
   "source": [
    "#Create graph\n",
    "#plt.style.use(\"seaborn\")\n",
    "\n",
    "# Set-up of x-axis and colors and size\n",
    "x_axis = np.arange(len(accidents_df[\"HOUR_LABEL\"].unique()))\n",
    "fig = plt.figure(figsize = (9,7))\n",
    "hours_holidays = hours.iloc[1].values.tolist()\n",
    "hours_weekdays = hours.iloc[0].values.tolist()\n",
    "\n",
    "# Creat bar chart \n",
    "bar1 = plt.bar(x_axis, hours_weekdays, \n",
    "                 alpha=0.8,width=0.35,\n",
    "                 color='lightsteelblue',\n",
    "                 label='Weekdays')\n",
    "bar2 = plt.bar(x_axis+0.35, hours_holidays, \n",
    "                 alpha=0.8,width=0.35,\n",
    "                 color='steelblue',\n",
    "                 label='Holidays/Weekends')\n",
    "\n",
    "# Specify tick location and labels\n",
    "tick_locations = [value+0.17 for value in x_axis]\n",
    "plt.xticks(tick_locations, ['Morning (5AM-11AM)', 'Afternoon (12PM-4PM)', 'Evening (5PM-8PM)', 'Night (9PM-4AM)'])\n",
    "\n",
    "# Set title, x and y labels, sizing, and formatting of chart\n",
    "plt.title(\"Motor Vehicle Crashes: Time of Day - Weekdays vs Holidays/Weekends\", fontsize = 14, fontweight='bold')\n",
    "plt.xlabel(\"Time of Day\", labelpad=10, fontsize = 14)\n",
    "plt.ylabel(\"% of Crashes\", fontsize = 14)\n",
    "plt.xticks(size = 11)\n",
    "plt.yticks(size = 12)\n",
    "plt.legend(loc='best',fontsize = 12)\n",
    "\n",
    "# Add text labels\n",
    "for a,b in zip(x_axis, hours_weekdays):\n",
    "    b = round(b,2)\n",
    "    plt.text(a-0.15, b-2, str(b)+'%', color='black',fontsize = 10)\n",
    "for a,b in zip(x_axis, hours_holidays):\n",
    "    b = round(b,2)\n",
    "    plt.text(a+0.2, b-2, str(b)+'%', color='black',fontsize = 10)\n",
    "\n",
    "# Save and display image\n",
    "plt.savefig(\"timeofday_holidays_vs_weekdays.png\")\n",
    "plt.show()"
   ]
  },
  {
   "cell_type": "code",
   "execution_count": null,
   "metadata": {
    "collapsed": true
   },
   "outputs": [],
   "source": [
    "# Calculations and Comparisons of Crash Routes - Weekends/Holidays vs Weekdays\n",
    "route_groupby = accidents_df.groupby([\"HOLIDAYS\",\"ROUTE\"])[\"ROUTE\"].count().unstack().reset_index()\n",
    "route_groupby[\"highways\"] = route_groupby[\"Interstate\"] + route_groupby[\"State Highway\"] + route_groupby[\"U.S. Highway\"]\n",
    "route_groupby[\"locals\"] = route_groupby[\"County Road\"] + route_groupby[\"Local Street - Township\"] + route_groupby[\"Local Street - Frontage Road\"]+ route_groupby[\"Local Street - Municipality\"]\n",
    "route_groupby[\"other/unknown\"] = route_groupby[\"Unknown\"]  + route_groupby[\"Other\"]\n",
    "route_groupby[\"totals\"] = route_groupby[\"highways\"]+ route_groupby[\"locals\"] \n",
    "route_groupby[\"highways_perc\"] = route_groupby[\"highways\"]/route_groupby[\"totals\"]*100\n",
    "route_groupby[\"locals_perc\"] = route_groupby[\"locals\"]/route_groupby[\"totals\"]*100\n",
    "route_groupby[\"other_perc\"] = route_groupby[\"other/unknown\"]/route_groupby[\"totals\"]*100\n",
    "routes = route_groupby[[\"highways_perc\",\"locals_perc\"]]"
   ]
  },
  {
   "cell_type": "code",
   "execution_count": null,
   "metadata": {},
   "outputs": [],
   "source": [
    "#Create graph\n",
    "#plt.style.use(\"seaborn\")\n",
    "\n",
    "# Set-up of x-axis and colors and size\n",
    "x_axis = np.arange(len(accidents_df[\"HOLIDAYS\"].unique()))\n",
    "fig = plt.figure(figsize = (9,7))\n",
    "weekdayroute = routes.iloc[0].values.tolist()\n",
    "holidayroute = routes.iloc[1].values.tolist()\n",
    "\n",
    "# Creat bar chart \n",
    "bar1 = plt.bar(x_axis, weekdayroute, \n",
    "                 alpha=0.8,width=0.3,\n",
    "                 color='lightsteelblue',\n",
    "                 label='Weekdays')\n",
    "bar2 = plt.bar(x_axis+0.3, holidayroute, \n",
    "                 alpha=0.8,width=0.3,\n",
    "                 color='steelblue',\n",
    "                 label='Holidays/Weekends')\n",
    "\n",
    "# Specify tick location and labels\n",
    "tick_locations = [value+0.15 for value in x_axis]\n",
    "plt.xticks(tick_locations, ['Highways', 'Local Roads'])\n",
    "\n",
    "# Set title, x and y labels, sizing, and formatting of chart\n",
    "plt.title(\"Motor Vehicle Crashes: Type of Route - Weekdays vs Holidays/Weekends\", fontsize = 14, fontweight='bold')\n",
    "plt.xlabel(\"Route Type\", labelpad=10, fontsize = 14)\n",
    "plt.ylabel(\"% of Crashes\", fontsize = 14)\n",
    "plt.xticks(size = 11)\n",
    "plt.yticks(size = 12)\n",
    "plt.legend(loc='best',fontsize = 12)\n",
    "\n",
    "# Add text labels\n",
    "for a,b in zip(x_axis, weekdayroute):\n",
    "    b = round(b,2)\n",
    "    plt.text(a-0.07, b-3, str(b)+'%', color='black',fontsize = 12)\n",
    "for a,b in zip(x_axis, holidayroute):\n",
    "    b = round(b,2)\n",
    "    plt.text(a+.22, b-3, str(b)+'%', color='black',fontsize = 12)\n",
    "\n",
    "# Save and display image\n",
    "plt.savefig(\"route_holidays_vs_weekdays.png\")\n",
    "plt.show()\n"
   ]
  },
  {
   "cell_type": "code",
   "execution_count": null,
   "metadata": {
    "scrolled": true
   },
   "outputs": [],
   "source": [
    "harm_y = weekdays.groupby([\"STATE\", \"HARM_EV\"])[\"HARM_EV\"].count().unstack()\n",
    "harm_y.fillna(0, inplace=True)\n",
    "harm_y[\"Most Frequent Harmful Event\"] = harm_y.idxmax(axis=1)\n",
    "harm_y['Total'] = harm_y.sum(axis=1)\n",
    "harm_yy = harm_y[[\"Motor Vehicle In-Transport\",\"Curb\", \"Tree (Standing Only)\", \"Pedestrian\", \"Rollover/Overturn\", \"Total\",\"Most Frequent Harmful Event\"]]\n",
    "harm_yy.loc[:,\"Motor Vehicle In-Transport\":\"Rollover/Overturn\"] = harm_yy.loc[:,\"Motor Vehicle In-Transport\":\"Rollover/Overturn\"].div(harm_yy[\"Total\"], axis=0)*100\n",
    "harm_weekdays = harm_yy.round(2)\n",
    "harm_weekdays.head()"
   ]
  },
  {
   "cell_type": "code",
   "execution_count": null,
   "metadata": {
    "scrolled": true
   },
   "outputs": [],
   "source": [
    "harm_x = holidays.groupby([\"STATE\", \"HARM_EV\"])[\"HARM_EV\"].count().unstack()\n",
    "harm_x.fillna(0, inplace=True)\n",
    "harm_x[\"Most Frequent Harmful Event\"] = harm_x.idxmax(axis=1)\n",
    "harm_x[\"Total\"] = harm_x.sum(axis=1)\n",
    "harm_xx = harm_x[[\"Motor Vehicle In-Transport\",\"Curb\", \"Tree (Standing Only)\", \"Pedestrian\", \"Rollover/Overturn\", \"Total\",\"Most Frequent Harmful Event\"]]\n",
    "harm_xx.loc[:,\"Motor Vehicle In-Transport\":\"Rollover/Overturn\"] = harm_xx.loc[:,\"Motor Vehicle In-Transport\":\"Rollover/Overturn\"].div(harm_xx[\"Total\"], axis=0)*100\n",
    "harm_holidays = harm_xx.round(2)\n",
    "harm_holidays.head()"
   ]
  },
  {
   "cell_type": "code",
   "execution_count": null,
   "metadata": {
    "collapsed": true,
    "scrolled": true
   },
   "outputs": [],
   "source": [
    "csv_path1 = \"accident_2015.csv\"\n",
    "csv_path2 = \"FARS2016NationalCSV/states.csv\"\n",
    "csv_path3 = \"FARS2016NationalCSV/CF.csv\"\n",
    "accidents = pd.read_csv(csv_path)\n",
    "accidents2015 = pd.read_csv(csv_path1)\n",
    "states = pd.read_csv(csv_path2)\n",
    "CF = pd.read_csv(csv_path3)"
   ]
  },
  {
   "cell_type": "code",
   "execution_count": null,
   "metadata": {
    "collapsed": true,
    "scrolled": true
   },
   "outputs": [],
   "source": [
    "csv_path4 = \"motor vehicle accidents/accident.sas7bdat\"\n",
    "csv_path5 = \"motor vehicle accidents/accident2013.sas7bdat\"\n",
    "accidents2014 = pd.read_sas(csv_path4)\n",
    "accidents2013 = pd.read_sas(csv_path5)"
   ]
  },
  {
   "cell_type": "code",
   "execution_count": null,
   "metadata": {
    "collapsed": true,
    "scrolled": true
   },
   "outputs": [],
   "source": [
    "accidents2013['STATE'] = accidents2013['STATE'].map(states.set_index('Codes')['State'])\n",
    "accidents2013['CF1'] = accidents2013['CF1'].map(CF.set_index('Code')['Attribute'])\n",
    "accidents2014['STATE'] = accidents2014['STATE'].map(states.set_index('Codes')['State'])\n",
    "accidents2014['CF1'] = accidents2014['CF1'].map(CF.set_index('Code')['Attribute'])\n",
    "accidents2015['STATE'] = accidents2015['STATE'].map(states.set_index('Codes')['State'])\n",
    "accidents2015['CF1'] = accidents2015['CF1'].map(CF.set_index('Code')['Attribute'])"
   ]
  },
  {
   "cell_type": "code",
   "execution_count": null,
   "metadata": {
    "collapsed": true,
    "scrolled": true
   },
   "outputs": [],
   "source": [
    "accidents2013 = accidents2013[[\"STATE\", \"DAY\",\"MONTH\",\"DAY_WEEK\",\"YEAR\",\"HOUR\",\"MINUTE\", \"CF1\"]]\n",
    "accidents2014 = accidents2014[[\"STATE\", \"DAY\",\"MONTH\",\"DAY_WEEK\",\"YEAR\",\"HOUR\",\"MINUTE\", \"CF1\"]]\n",
    "accidents2015 = accidents2015[[\"STATE\", \"DAY\",\"MONTH\",\"DAY_WEEK\",\"YEAR\",\"HOUR\",\"MINUTE\", \"CF1\"]]"
   ]
  },
  {
   "cell_type": "code",
   "execution_count": null,
   "metadata": {},
   "outputs": [],
   "source": [
    "CF1test = accidents.groupby([\"STATE\", \"CF1\"])[\"CF1\"].count().unstack()\n",
    "CF1test.fillna(0, inplace=True)\n",
    "CF1test = CF1test.drop(\"None\", axis=1)\n",
    "CF1test[\"2016 Factors Related to Crash (2nd Most)\"] = CF1test.idxmax(axis = 1, skipna=True)\n",
    "CF2016 = CF1test[[\"2016 Factors Related to Crash (2nd Most)\"]]\n",
    "\n",
    "CF2test = accidents2015.groupby([\"STATE\", \"CF1\"])[\"CF1\"].count().unstack()\n",
    "CF2test.fillna(0, inplace=True)\n",
    "CF2test = CF2test.drop(\"None\", axis=1)\n",
    "CF2test[\"2015 Factors Related to Crash (2nd Most)\"] = CF2test.idxmax(axis = 1, skipna=True)\n",
    "CF2015 = CF2test[[\"2015 Factors Related to Crash (2nd Most)\"]]\n",
    "\n",
    "CF3test = accidents2014.groupby([\"STATE\", \"CF1\"])[\"CF1\"].count().unstack()\n",
    "CF3test.fillna(0, inplace=True)\n",
    "CF3test = CF3test.drop(\"None\", axis=1)\n",
    "CF3test[\"2014 Factors Related to Crash (2nd Most)\"] = CF3test.idxmax(axis = 1, skipna=True)\n",
    "CF2014 = CF3test[[\"2014 Factors Related to Crash (2nd Most)\"]]\n",
    "\n",
    "CF4test = accidents2013.groupby([\"STATE\", \"CF1\"])[\"CF1\"].count().unstack()\n",
    "CF4test.fillna(0, inplace=True)\n",
    "CF4test = CF4test.drop(\"None\", axis=1)\n",
    "CF4test[\"2013 Factors Related to Crash (2nd Most)\"] = CF4test.idxmax(axis = 1, skipna=True)\n",
    "CF2013 = CF4test[[\"2013 Factors Related to Crash (2nd Most)\"]]"
   ]
  },
  {
   "cell_type": "code",
   "execution_count": null,
   "metadata": {},
   "outputs": [],
   "source": [
    "CF_1516 = CF2015.join(CF2016)\n",
    "CF_1314 = CF2013.join(CF2014)\n",
    "CF_all = CF_1314.join(CF_1516)\n",
    "CF_all"
   ]
  },
  {
   "cell_type": "code",
   "execution_count": null,
   "metadata": {
    "collapsed": true
   },
   "outputs": [],
   "source": []
  }
 ],
 "metadata": {
  "kernelspec": {
   "display_name": "Python 3",
   "language": "python",
   "name": "python3"
  },
  "language_info": {
   "codemirror_mode": {
    "name": "ipython",
    "version": 3
   },
   "file_extension": ".py",
   "mimetype": "text/x-python",
   "name": "python",
   "nbconvert_exporter": "python",
   "pygments_lexer": "ipython3",
   "version": "3.6.3"
  }
 },
 "nbformat": 4,
 "nbformat_minor": 2
}
